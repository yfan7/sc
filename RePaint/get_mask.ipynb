{
 "cells": [
  {
   "cell_type": "code",
   "execution_count": 1,
   "metadata": {},
   "outputs": [],
   "source": [
    "from PIL import Image\n",
    "import os\n",
    "import numpy as np\n",
    "\n",
    "directory_path = './data/datasets/gt_keep_masks/ev2li'\n",
    "image_arrays = []\n",
    "\n",
    "for filename in os.listdir(directory_path):\n",
    "    if filename.endswith('.png'):\n",
    "        file_path = os.path.join(directory_path, filename)\n",
    "        img = Image.open(file_path)\n",
    "        img_array = np.array(img)\n",
    "        image_arrays.append(img_array)\n"
   ]
  },
  {
   "cell_type": "code",
   "execution_count": 7,
   "metadata": {},
   "outputs": [
    {
     "name": "stdout",
     "output_type": "stream",
     "text": [
      "100 unique masks saved to ./data/datasets/gt_keep_masks/sc_square.\n"
     ]
    }
   ],
   "source": [
    "import numpy as np\n",
    "import os\n",
    "import cv2\n",
    "\n",
    "# Set a seed for random number generation\n",
    "np.random.seed(0)\n",
    "\n",
    "# Define the directory to save the masks\n",
    "save_dir = './data/datasets/gt_keep_masks/sc_square'\n",
    "\n",
    "# Create the save directory if it doesn't exist\n",
    "if not os.path.exists(save_dir):\n",
    "    os.makedirs(save_dir)\n",
    "\n",
    "# Define the size of your images and masks\n",
    "image_size = (64, 64, 3)\n",
    "mask_size = (64, 64, 3)\n",
    "\n",
    "# Define the number of unique masks to generate\n",
    "num_unique_masks = 100\n",
    "\n",
    "# Define the range of possible masked-out sizes\n",
    "min_size = 16\n",
    "max_size = 16\n",
    "\n",
    "# Generate and save each of the 10 unique masks once\n",
    "for i in range(num_unique_masks):\n",
    "    # Create an empty mask filled with 255 (white)\n",
    "    mask = np.full(mask_size, 255, dtype=np.uint8)\n",
    "\n",
    "    # Choose a random size for the masked-out region\n",
    "    masked_out_size = (\n",
    "        np.random.randint(min_size, max_size + 1),\n",
    "        np.random.randint(min_size, max_size + 1)\n",
    "    )\n",
    "\n",
    "    # Choose a random position for the top-left corner of the masked-out region\n",
    "    x_pos = np.random.randint(0, mask_size[0] - masked_out_size[0] + 1)\n",
    "    y_pos = np.random.randint(0, mask_size[1] - masked_out_size[1] + 1)\n",
    "\n",
    "    # Set the selected region to 0 (black)\n",
    "    mask[x_pos:x_pos + masked_out_size[0], y_pos:y_pos + masked_out_size[1], :] = 0\n",
    "    mask[:,:,1] = 255\n",
    "    # Save the mask with a unique filename\n",
    "    mask_filename = os.path.join(save_dir, f'mask_{i}.png')\n",
    "    cv2.imwrite(mask_filename, mask)\n",
    "\n",
    "print(f\"{num_unique_masks} unique masks saved to {save_dir}.\")\n"
   ]
  },
  {
   "cell_type": "code",
   "execution_count": 12,
   "metadata": {},
   "outputs": [
    {
     "name": "stdout",
     "output_type": "stream",
     "text": [
      "Files already downloaded and verified\n"
     ]
    }
   ],
   "source": [
    "from sc2image.dataset import StarCraftCIFAR10\n",
    "sc2image_cifar10 = StarCraftCIFAR10(root=\"/mnt/pimed/results/GE_project/Cynthia/SCData\", train=False,download=True)"
   ]
  },
  {
   "cell_type": "code",
   "execution_count": 13,
   "metadata": {},
   "outputs": [],
   "source": [
    "from tqdm import tqdm"
   ]
  },
  {
   "cell_type": "code",
   "execution_count": 14,
   "metadata": {},
   "outputs": [
    {
     "data": {
      "text/plain": [
       "10000"
      ]
     },
     "execution_count": 14,
     "metadata": {},
     "output_type": "execute_result"
    }
   ],
   "source": [
    "len(sc2image_cifar10)"
   ]
  },
  {
   "cell_type": "code",
   "execution_count": 16,
   "metadata": {},
   "outputs": [
    {
     "name": "stderr",
     "output_type": "stream",
     "text": [
      "100%|██████████| 100/100 [00:00<00:00, 1775.77it/s]\n"
     ]
    }
   ],
   "source": [
    "for i in tqdm(range(len(sc2image_cifar10))[:100]):\n",
    "    sc2image_cifar10[i][0].resize((64, 64), Image.NEAREST).save(f'./data/datasets/gts/sc/{i}.png')"
   ]
  },
  {
   "cell_type": "code",
   "execution_count": null,
   "metadata": {},
   "outputs": [],
   "source": []
  },
  {
   "cell_type": "markdown",
   "metadata": {},
   "source": []
  }
 ],
 "metadata": {
  "kernelspec": {
   "display_name": "tbj",
   "language": "python",
   "name": "tbj"
  },
  "language_info": {
   "codemirror_mode": {
    "name": "ipython",
    "version": 3
   },
   "file_extension": ".py",
   "mimetype": "text/x-python",
   "name": "python",
   "nbconvert_exporter": "python",
   "pygments_lexer": "ipython3",
   "version": "3.7.5"
  }
 },
 "nbformat": 4,
 "nbformat_minor": 2
}
